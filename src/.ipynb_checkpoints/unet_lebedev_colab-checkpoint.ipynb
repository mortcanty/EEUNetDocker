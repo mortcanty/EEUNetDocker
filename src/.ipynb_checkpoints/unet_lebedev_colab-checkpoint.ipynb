{
 "cells": [
  {
   "cell_type": "markdown",
   "metadata": {
    "id": "LFPmkPvl1Rvb"
   },
   "source": [
    "# Symantic Change Detection with the U-Net Architecture\n",
    "\n",
    "## Lebedev change training dataset"
   ]
  },
  {
   "cell_type": "code",
   "execution_count": null,
   "metadata": {
    "executionInfo": {
     "elapsed": 628,
     "status": "ok",
     "timestamp": 1621449413132,
     "user": {
      "displayName": "Mort Canty",
      "photoUrl": "https://lh3.googleusercontent.com/a-/AOh14Gic8wrtuzbljC46e5I9nhzEOgqYcVXCDqSxyrEQ1Q=s64",
      "userId": "11792105515663483880"
     },
     "user_tz": -120
    },
    "id": "M730JvEN1Rvm"
   },
   "outputs": [],
   "source": [
    "import numpy as np\n",
    "from numpy import savez_compressed\n",
    "from PIL import Image\n",
    "import os, sys\n",
    "from osgeo import gdal,gdalconst\n",
    "from matplotlib import pyplot as plt\n",
    "import matplotlib\n",
    "from tensorflow import keras\n",
    "from tensorflow.keras import layers\n",
    "from tensorflow.keras.optimizers import Adam\n",
    "import tensorflow as tf\n",
    "from tensorflow.keras.layers import *\n",
    "%matplotlib inline"
   ]
  },
  {
   "cell_type": "code",
   "execution_count": null,
   "metadata": {
    "colab": {
     "base_uri": "https://localhost:8080/"
    },
    "executionInfo": {
     "elapsed": 21029,
     "status": "ok",
     "timestamp": 1621448312050,
     "user": {
      "displayName": "Mort Canty",
      "photoUrl": "https://lh3.googleusercontent.com/a-/AOh14Gic8wrtuzbljC46e5I9nhzEOgqYcVXCDqSxyrEQ1Q=s64",
      "userId": "11792105515663483880"
     },
     "user_tz": -120
    },
    "id": "-ojXn_BJ5Xnh",
    "outputId": "30323bb8-cedb-4a29-f901-7ec4bcbee8ee"
   },
   "outputs": [],
   "source": [
    "# Colab only\n",
    "from google.colab import drive, files\n",
    "drive.mount('/content/drive')"
   ]
  },
  {
   "cell_type": "code",
   "execution_count": null,
   "metadata": {
    "id": "91zoHhqSSoJ8"
   },
   "outputs": [],
   "source": [
    "train_folder = '/media/mort/Crucial/imagery/lebedev/ChangeDetectionDataset/Real/subset'"
   ]
  },
  {
   "cell_type": "code",
   "execution_count": null,
   "metadata": {
    "executionInfo": {
     "elapsed": 482,
     "status": "ok",
     "timestamp": 1621448315262,
     "user": {
      "displayName": "Mort Canty",
      "photoUrl": "https://lh3.googleusercontent.com/a-/AOh14Gic8wrtuzbljC46e5I9nhzEOgqYcVXCDqSxyrEQ1Q=s64",
      "userId": "11792105515663483880"
     },
     "user_tz": -120
    },
    "id": "IR0yxMqmUPQV"
   },
   "outputs": [],
   "source": [
    "# Colab only\n",
    "train_folder = '/content/drive/MyDrive/Lebedev'"
   ]
  },
  {
   "cell_type": "markdown",
   "metadata": {
    "id": "0HyjiIy81Rvn"
   },
   "source": [
    "### Numpy arrays for training and testing"
   ]
  },
  {
   "cell_type": "code",
   "execution_count": null,
   "metadata": {
    "id": "7MyNU0ri1Rvo"
   },
   "outputs": [],
   "source": [
    "def make_train_arrays(folder,image_size=256):\n",
    "    Afiles = os.listdir(folder+'/train/A')\n",
    "    Bfiles = os.listdir(folder+'/train/B')\n",
    "    OUTfiles = os.listdir(folder+'/train/OUT')\n",
    "    Afiles.sort()\n",
    "    Bfiles.sort()\n",
    "    OUTfiles.sort()\n",
    "    num_files = 2000\n",
    "    print('making training images array:')\n",
    "    x_train = np.zeros((num_files,image_size,image_size,6),dtype=np.float32)\n",
    "    y_train = np.zeros((num_files,image_size,image_size,1),dtype=np.float32)\n",
    "    for i in range(num_files):\n",
    "        if i%100 == 0:\n",
    "            print( '%i '%i,end=' ') \n",
    "        imgA = np.asarray(Image.open(folder+'/train/A/'+Afiles[i]))\n",
    "        imgB = np.asarray(Image.open(folder+'/train/B/'+Bfiles[i]))\n",
    "        train_img = np.concatenate((imgA,imgB),axis=2)\n",
    "        x_train[i,:,:,:] = train_img/255.\n",
    "        labels_img = np.asarray(Image.open(folder+'/train/OUT/'+OUTfiles[i]))\n",
    "        y_train[i,:,:,:] = np.reshape(labels_img,(image_size,image_size,1))/255.\n",
    "    np.savez_compressed(folder+'/images_train.npz',x_train=x_train,y_train=y_train)"
   ]
  },
  {
   "cell_type": "code",
   "execution_count": null,
   "metadata": {
    "id": "hMXBzUY4SoKA"
   },
   "outputs": [],
   "source": [
    "def make_test_arrays(folder,image_size=256):\n",
    "    Afiles = os.listdir(folder+'/test/A')\n",
    "    Bfiles = os.listdir(folder+'/test/B')\n",
    "    OUTfiles = os.listdir(folder+'/test/OUT')\n",
    "    Afiles.sort()\n",
    "    Bfiles.sort()\n",
    "    OUTfiles.sort()\n",
    "    num_files = 1000\n",
    "    print('making testing images array:')\n",
    "    x_test = np.zeros((num_files,image_size,image_size,6),dtype=np.float32)\n",
    "    y_test = np.zeros((num_files,image_size,image_size,1),dtype=np.float32)\n",
    "    for i in range(num_files):\n",
    "        if i%100 == 0:\n",
    "            print( '%i '%i,end=' ') \n",
    "        imgA = np.asarray(Image.open(folder+'/test/A/'+Afiles[i]))\n",
    "        imgB = np.asarray(Image.open(folder+'/test/B/'+Bfiles[i]))\n",
    "        test_img = np.concatenate((imgA,imgB),axis=2)\n",
    "        x_test[i,:,:,:] = test_img/255.\n",
    "        labels_img = np.asarray(Image.open(folder+'/test/OUT/'+OUTfiles[i]))\n",
    "        y_test[i,:,:,:] = np.reshape(labels_img,(image_size,image_size,1))/255.\n",
    "    np.savez_compressed(folder+'/images_test.npz',x_test=x_test,y_test=y_test)"
   ]
  },
  {
   "cell_type": "code",
   "execution_count": null,
   "metadata": {
    "id": "eWdme626SoKB",
    "outputId": "438169cc-faf9-4e65-afbf-0a1ad4458b48"
   },
   "outputs": [],
   "source": [
    "make_train_arrays(train_folder)"
   ]
  },
  {
   "cell_type": "code",
   "execution_count": null,
   "metadata": {
    "id": "BvfbcCp9SoKB",
    "outputId": "d1d7d526-d078-451d-978d-2aba9375917c"
   },
   "outputs": [],
   "source": [
    "make_test_arrays(train_folder)"
   ]
  },
  {
   "cell_type": "code",
   "execution_count": null,
   "metadata": {
    "colab": {
     "base_uri": "https://localhost:8080/"
    },
    "executionInfo": {
     "elapsed": 1936,
     "status": "ok",
     "timestamp": 1621439555477,
     "user": {
      "displayName": "Mort Canty",
      "photoUrl": "https://lh3.googleusercontent.com/a-/AOh14Gic8wrtuzbljC46e5I9nhzEOgqYcVXCDqSxyrEQ1Q=s64",
      "userId": "11792105515663483880"
     },
     "user_tz": -120
    },
    "id": "oaroz3HF1Rvs",
    "outputId": "8ccf1ebf-c116-4ad6-ed41-24dddad64f34"
   },
   "outputs": [],
   "source": [
    "f = np.load(train_folder+'/images_train.npz')\n",
    "f.files"
   ]
  },
  {
   "cell_type": "code",
   "execution_count": null,
   "metadata": {
    "colab": {
     "base_uri": "https://localhost:8080/",
     "height": 396
    },
    "executionInfo": {
     "elapsed": 36218,
     "status": "ok",
     "timestamp": 1621439621433,
     "user": {
      "displayName": "Mort Canty",
      "photoUrl": "https://lh3.googleusercontent.com/a-/AOh14Gic8wrtuzbljC46e5I9nhzEOgqYcVXCDqSxyrEQ1Q=s64",
      "userId": "11792105515663483880"
     },
     "user_tz": -120
    },
    "id": "HsyxI8VxSoKC",
    "outputId": "deba9f0f-970e-4352-d599-ffdac8920e67"
   },
   "outputs": [],
   "source": [
    "i = 3\n",
    "fig, ax = plt.subplots(1,3,figsize=(20,10))\n",
    "ax[0].imshow(f['x_train'][i,:,:,:3])\n",
    "ax[1].imshow(f['x_train'][i,:,:,3:])\n",
    "ax[2].imshow(np.reshape(f['y_train'][i],(256,256)),cmap = plt.cm.gray)"
   ]
  },
  {
   "cell_type": "markdown",
   "metadata": {
    "id": "rQIbEUqgSoKD"
   },
   "source": [
    "### Make Datasets"
   ]
  },
  {
   "cell_type": "code",
   "execution_count": null,
   "metadata": {
    "executionInfo": {
     "elapsed": 25899,
     "status": "ok",
     "timestamp": 1621448348493,
     "user": {
      "displayName": "Mort Canty",
      "photoUrl": "https://lh3.googleusercontent.com/a-/AOh14Gic8wrtuzbljC46e5I9nhzEOgqYcVXCDqSxyrEQ1Q=s64",
      "userId": "11792105515663483880"
     },
     "user_tz": -120
    },
    "id": "8uhleP3zSoKD"
   },
   "outputs": [],
   "source": [
    "path = train_folder+'/images_train.npz'\n",
    "with np.load(path) as data:\n",
    "  train_examples = data['x_train']\n",
    "  train_labels = data['y_train']   \n",
    "train_dataset = tf.data.Dataset.from_tensor_slices((train_examples, train_labels))"
   ]
  },
  {
   "cell_type": "code",
   "execution_count": null,
   "metadata": {
    "executionInfo": {
     "elapsed": 5930,
     "status": "ok",
     "timestamp": 1621448357227,
     "user": {
      "displayName": "Mort Canty",
      "photoUrl": "https://lh3.googleusercontent.com/a-/AOh14Gic8wrtuzbljC46e5I9nhzEOgqYcVXCDqSxyrEQ1Q=s64",
      "userId": "11792105515663483880"
     },
     "user_tz": -120
    },
    "id": "Exh1Xai7SoKD"
   },
   "outputs": [],
   "source": [
    "path = train_folder+'/images_test.npz'\n",
    "with np.load(path) as data:\n",
    "  test_examples = data['x_test']\n",
    "  test_labels = data['y_test']        \n",
    "test_dataset = tf.data.Dataset.from_tensor_slices((test_examples, test_labels)) "
   ]
  },
  {
   "cell_type": "code",
   "execution_count": null,
   "metadata": {
    "executionInfo": {
     "elapsed": 914,
     "status": "ok",
     "timestamp": 1621448464424,
     "user": {
      "displayName": "Mort Canty",
      "photoUrl": "https://lh3.googleusercontent.com/a-/AOh14Gic8wrtuzbljC46e5I9nhzEOgqYcVXCDqSxyrEQ1Q=s64",
      "userId": "11792105515663483880"
     },
     "user_tz": -120
    },
    "id": "b0ErletYSoKE"
   },
   "outputs": [],
   "source": [
    "BATCH_SIZE = 8\n",
    "SHUFFLE_BUFFER_SIZE = 20\n",
    "\n",
    "train_dataset = train_dataset.shuffle(SHUFFLE_BUFFER_SIZE).batch(BATCH_SIZE)\n",
    "test_dataset = test_dataset.batch(BATCH_SIZE)"
   ]
  },
  {
   "cell_type": "markdown",
   "metadata": {
    "id": "_39aX7p51Rvy"
   },
   "source": [
    "### The U-Net CNN"
   ]
  },
  {
   "cell_type": "code",
   "execution_count": null,
   "metadata": {
    "executionInfo": {
     "elapsed": 479,
     "status": "ok",
     "timestamp": 1621448466684,
     "user": {
      "displayName": "Mort Canty",
      "photoUrl": "https://lh3.googleusercontent.com/a-/AOh14Gic8wrtuzbljC46e5I9nhzEOgqYcVXCDqSxyrEQ1Q=s64",
      "userId": "11792105515663483880"
     },
     "user_tz": -120
    },
    "id": "HRfxnFYf1Rvy"
   },
   "outputs": [],
   "source": [
    "def get_unet_model(num_channels=6,image_size=256,num_classes=1):\n",
    "    initializer = 'he_normal'\n",
    "    inputs = tf.keras.layers.Input(shape=(image_size,image_size,num_channels))\n",
    "    conv11 = tf.keras.layers.Conv2D(64,3,activation=\"relu\",padding=\"same\",kernel_initializer=initializer)(inputs)\n",
    "    conv12 = tf.keras.layers.Conv2D(64,3,activation=\"relu\",padding=\"same\",kernel_initializer=initializer)(conv11)\n",
    "    max_pool1 = tf.keras.layers.MaxPooling2D(pool_size=2,strides=2,padding=\"same\")(conv12)\n",
    "    conv21 = tf.keras.layers.Conv2D(128,3,activation=\"relu\",padding=\"same\",kernel_initializer=initializer)(max_pool1)\n",
    "    conv22 = tf.keras.layers.Conv2D(128,3,activation=\"relu\",padding=\"same\",kernel_initializer=initializer)(conv21)\n",
    "    max_pool2 = tf.keras.layers.MaxPooling2D(pool_size=2,strides=2,padding=\"same\")(conv22)\n",
    "    conv31 = tf.keras.layers.Conv2D(256,3,activation=\"relu\",padding=\"same\",kernel_initializer=initializer)(max_pool2)\n",
    "    conv32 = tf.keras.layers.Conv2D(256,3,activation=\"relu\",padding=\"same\",kernel_initializer=initializer)(conv31)\n",
    "    max_pool3 = tf.keras.layers.MaxPooling2D(pool_size=2,strides=2,padding=\"same\")(conv32)\n",
    "    conv41 = tf.keras.layers.Conv2D(512,3,activation=\"relu\",padding=\"same\",kernel_initializer=initializer)(max_pool3)\n",
    "    conv42 = tf.keras.layers.Conv2D(512,3,activation=\"relu\",padding=\"same\",kernel_initializer=initializer)(conv41)\n",
    "    max_pool4 = tf.keras.layers.MaxPooling2D(pool_size=2,strides=2,padding=\"same\")(conv42)\n",
    "    conv51 = tf.keras.layers.Conv2D(1024,3,activation=\"relu\",padding=\"same\",kernel_initializer=initializer)(max_pool4)\n",
    "    conv52 = tf.keras.layers.Conv2D(1024,3,activation=\"relu\",padding=\"same\",kernel_initializer=initializer)(conv51)\n",
    "    uconv51 = tf.keras.layers.Conv2DTranspose(512,3,strides=2,activation=\"relu\",padding=\"same\")(conv52)\n",
    "    merge_dec5 = tf.keras.layers.concatenate([conv42,uconv51],axis=3)\n",
    "    conv_dec_41 = tf.keras.layers.Conv2D(512,3,activation=\"relu\",padding=\"same\")(merge_dec5)\n",
    "    conv_dec_42 = tf.keras.layers.Conv2D(512,3,activation=\"relu\",padding=\"same\")(conv_dec_41)\n",
    "    uconv41 = tf.keras.layers.Conv2DTranspose(256,3,strides=2,activation=\"relu\",padding=\"same\")(conv_dec_42)\n",
    "    merge_dec4 = tf.keras.layers.concatenate([conv32,uconv41],axis=3)\n",
    "    conv_dec_31 = tf.keras.layers.Conv2D(256,3,activation=\"relu\",padding=\"same\")(merge_dec4)\n",
    "    conv_dec_32 = tf.keras.layers.Conv2D(256,3,activation=\"relu\",padding=\"same\")(conv_dec_31)\n",
    "    uconv31 = tf.keras.layers.Conv2DTranspose(128,3,strides=2,activation=\"relu\",padding=\"same\")(conv_dec_32)\n",
    "    merge_dec3 = tf.keras.layers.concatenate([conv22,uconv31],axis=3)\n",
    "    conv_dec_21 = tf.keras.layers.Conv2D(128,3,activation=\"relu\",padding=\"same\")(merge_dec3)\n",
    "    conv_dec_22 = tf.keras.layers.Conv2D(128,3,activation=\"relu\",padding=\"same\")(conv_dec_21)\n",
    "    uconv21 = tf.keras.layers.Conv2DTranspose(64,3,strides=2,activation=\"relu\",padding=\"same\")(conv_dec_22)\n",
    "    merge_dec2 = tf.keras.layers.concatenate([conv12,uconv21],axis=3)\n",
    "    conv_dec_11 = tf.keras.layers.Conv2D(64,3,activation=\"relu\",padding=\"same\")(merge_dec2)\n",
    "    conv_dec_12 = tf.keras.layers.Conv2D(64,3,activation=\"relu\",padding=\"same\")(conv_dec_11)\n",
    "    conv_dec_12 = tf.keras.layers.Conv2D(8,3,activation=\"relu\",padding=\"same\")(conv_dec_12)\n",
    "    output = tf.keras.layers.Conv2D(num_classes,1,activation = 'sigmoid')(conv_dec_12)\n",
    "    return tf.keras.Model(inputs = inputs, outputs = output)"
   ]
  },
  {
   "cell_type": "code",
   "execution_count": null,
   "metadata": {
    "colab": {
     "base_uri": "https://localhost:8080/"
    },
    "executionInfo": {
     "elapsed": 1054,
     "status": "ok",
     "timestamp": 1621449923132,
     "user": {
      "displayName": "Mort Canty",
      "photoUrl": "https://lh3.googleusercontent.com/a-/AOh14Gic8wrtuzbljC46e5I9nhzEOgqYcVXCDqSxyrEQ1Q=s64",
      "userId": "11792105515663483880"
     },
     "user_tz": -120
    },
    "id": "DwqtWEKC1Rv0",
    "outputId": "88447ba8-b471-4c00-8280-f5e06b71da6b"
   },
   "outputs": [],
   "source": [
    "model = None\n",
    "model = get_unet_model()\n",
    "model.summary()"
   ]
  },
  {
   "cell_type": "code",
   "execution_count": null,
   "metadata": {
    "executionInfo": {
     "elapsed": 642,
     "status": "ok",
     "timestamp": 1621449931769,
     "user": {
      "displayName": "Mort Canty",
      "photoUrl": "https://lh3.googleusercontent.com/a-/AOh14Gic8wrtuzbljC46e5I9nhzEOgqYcVXCDqSxyrEQ1Q=s64",
      "userId": "11792105515663483880"
     },
     "user_tz": -120
    },
    "id": "uiGM7IB11Rv1"
   },
   "outputs": [],
   "source": [
    "model.compile(optimizer=Adam(learning_rate=0.0003),\n",
    "              loss=tf.keras.losses.BinaryCrossentropy(),\n",
    "              metrics=[tf.keras.metrics.BinaryAccuracy()])"
   ]
  },
  {
   "cell_type": "markdown",
   "metadata": {
    "id": "f1SDSxO61Rv2"
   },
   "source": [
    "### Training"
   ]
  },
  {
   "cell_type": "code",
   "execution_count": 1,
   "metadata": {
    "colab": {
     "base_uri": "https://localhost:8080/"
    },
    "executionInfo": {
     "elapsed": 692336,
     "status": "ok",
     "timestamp": 1621450633967,
     "user": {
      "displayName": "Mort Canty",
      "photoUrl": "https://lh3.googleusercontent.com/a-/AOh14Gic8wrtuzbljC46e5I9nhzEOgqYcVXCDqSxyrEQ1Q=s64",
      "userId": "11792105515663483880"
     },
     "user_tz": -120
    },
    "id": "pv-dqFGC1Rv2",
    "outputId": "f85af1db-7d6e-45bf-bd81-bf26a97d7fb5"
   },
   "outputs": [
    {
     "ename": "NameError",
     "evalue": "name 'model' is not defined",
     "output_type": "error",
     "traceback": [
      "\u001b[0;31m---------------------------------------------------------------------------\u001b[0m",
      "\u001b[0;31mNameError\u001b[0m                                 Traceback (most recent call last)",
      "\u001b[0;32m<ipython-input-1-a74f08ccea24>\u001b[0m in \u001b[0;36m<module>\u001b[0;34m\u001b[0m\n\u001b[0;32m----> 1\u001b[0;31m \u001b[0mhistory\u001b[0m \u001b[0;34m=\u001b[0m \u001b[0mmodel\u001b[0m\u001b[0;34m.\u001b[0m\u001b[0mfit\u001b[0m\u001b[0;34m(\u001b[0m\u001b[0mtrain_dataset\u001b[0m\u001b[0;34m,\u001b[0m \u001b[0mepochs\u001b[0m\u001b[0;34m=\u001b[0m\u001b[0;36m2\u001b[0m\u001b[0;34m,\u001b[0m \u001b[0mvalidation_data\u001b[0m\u001b[0;34m=\u001b[0m\u001b[0mtest_dataset\u001b[0m\u001b[0;34m)\u001b[0m\u001b[0;34m\u001b[0m\u001b[0;34m\u001b[0m\u001b[0m\n\u001b[0m\u001b[1;32m      2\u001b[0m \u001b[0;31m#model.save('/content/drive/MyDrive/Lebedev/unet_lebedev_model.h5')\u001b[0m\u001b[0;34m\u001b[0m\u001b[0;34m\u001b[0m\u001b[0;34m\u001b[0m\u001b[0m\n",
      "\u001b[0;31mNameError\u001b[0m: name 'model' is not defined"
     ]
    }
   ],
   "source": [
    "history = model.fit(train_dataset, epochs=2, validation_data=test_dataset)\n",
    "model.save('/content/drive/MyDrive/Lebedev/unet_lebedev_model.h5')"
   ]
  },
  {
   "cell_type": "code",
   "execution_count": null,
   "metadata": {
    "executionInfo": {
     "elapsed": 8692,
     "status": "ok",
     "timestamp": 1621448378559,
     "user": {
      "displayName": "Mort Canty",
      "photoUrl": "https://lh3.googleusercontent.com/a-/AOh14Gic8wrtuzbljC46e5I9nhzEOgqYcVXCDqSxyrEQ1Q=s64",
      "userId": "11792105515663483880"
     },
     "user_tz": -120
    },
    "id": "wsNDfEdJ5Xn0"
   },
   "outputs": [],
   "source": [
    "model = keras.models.load_model('/content/drive/MyDrive/Lebedev/unet_lebedev_model.h5')"
   ]
  },
  {
   "cell_type": "code",
   "execution_count": null,
   "metadata": {
    "executionInfo": {
     "elapsed": 8692,
     "status": "ok",
     "timestamp": 1621448378559,
     "user": {
      "displayName": "Mort Canty",
      "photoUrl": "https://lh3.googleusercontent.com/a-/AOh14Gic8wrtuzbljC46e5I9nhzEOgqYcVXCDqSxyrEQ1Q=s64",
      "userId": "11792105515663483880"
     },
     "user_tz": -120
    },
    "id": "wsNDfEdJ5Xn0"
   },
   "outputs": [],
   "source": [
    "model = keras.models.load_model('unet_lebedev_model.h5')"
   ]
  },
  {
   "cell_type": "markdown",
   "metadata": {
    "id": "TMt10BDu1Rv3"
   },
   "source": [
    "### Visual testing"
   ]
  },
  {
   "cell_type": "code",
   "execution_count": null,
   "metadata": {
    "colab": {
     "base_uri": "https://localhost:8080/",
     "height": 607
    },
    "executionInfo": {
     "elapsed": 9852,
     "status": "ok",
     "timestamp": 1621450682972,
     "user": {
      "displayName": "Mort Canty",
      "photoUrl": "https://lh3.googleusercontent.com/a-/AOh14Gic8wrtuzbljC46e5I9nhzEOgqYcVXCDqSxyrEQ1Q=s64",
      "userId": "11792105515663483880"
     },
     "user_tz": -120
    },
    "id": "Ul4590rG1Rv3",
    "outputId": "f1aab603-b7ed-48d0-967b-30d96e62e96a"
   },
   "outputs": [],
   "source": [
    "i = 12\n",
    "test_example, test_label = list(test_dataset)[i]\n",
    "testOUT = np.reshape(test_label[:,:,:],(256,256))\n",
    "fig, ax = plt.subplots(2,2,figsize=(10,10))\n",
    "ax[0,0].imshow(test_example[:,:,:3])\n",
    "ax[0,1].imshow(test_example[:,:,3:])\n",
    "ax[1,0].imshow(testOUT,cmap = plt.cm.gray)\n",
    "ax[1,1].imshow(np.reshape(model.predict(np.reshape(test_example,(1,256,256,6))),(256,256)),cmap = plt.cm.gray)\n",
    "ax[0,0].set_title('test imageA')\n",
    "ax[0,1].set_title('test imageB')\n",
    "ax[1,0].set_title('ground truth')\n",
    "ax[1,1].set_title('predicted')\n",
    "plt.show()"
   ]
  },
  {
   "cell_type": "code",
   "execution_count": null,
   "metadata": {},
   "outputs": [],
   "source": []
  }
 ],
 "metadata": {
  "accelerator": "GPU",
  "colab": {
   "collapsed_sections": [],
   "name": "unet_lebedev_colab.ipynb",
   "provenance": []
  },
  "kernelspec": {
   "display_name": "Python 3",
   "language": "python",
   "name": "python3"
  },
  "language_info": {
   "codemirror_mode": {
    "name": "ipython",
    "version": 3
   },
   "file_extension": ".py",
   "mimetype": "text/x-python",
   "name": "python",
   "nbconvert_exporter": "python",
   "pygments_lexer": "ipython3",
   "version": "3.8.5"
  }
 },
 "nbformat": 4,
 "nbformat_minor": 1
}
